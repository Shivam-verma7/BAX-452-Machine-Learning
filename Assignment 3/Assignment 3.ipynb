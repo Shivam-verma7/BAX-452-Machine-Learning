{
 "cells": [
  {
   "cell_type": "markdown",
   "metadata": {},
   "source": [
    "## import packages and dataset"
   ]
  },
  {
   "cell_type": "code",
   "execution_count": 2,
   "metadata": {},
   "outputs": [],
   "source": [
    "import numpy as np\n",
    "import pandas as pd\n",
    "import scipy as sp\n",
    "import os\n",
    "import seaborn as sns\n",
    "import matplotlib.pyplot as plt\n",
    "import statsmodels.api as sm\n",
    "from sklearn import preprocessing\n",
    "from sklearn.metrics import confusion_matrix\n",
    "from sklearn.metrics import r2_score\n",
    "from sklearn.model_selection import cross_val_score, cross_val_predict, cross_validate\n",
    "from sklearn.linear_model import LogisticRegression\n",
    "from sklearn.model_selection import train_test_split\n",
    "from sklearn.feature_selection import RFE\n",
    "from sklearn import metrics\n",
    "from sklearn.linear_model import Lasso\n",
    "from sklearn.linear_model import Ridge\n",
    "from sklearn.linear_model import LinearRegression\n",
    "from sklearn.model_selection import GridSearchCV\n",
    "import statsmodels.stats.multitest as smm\n",
    "from sklearn.preprocessing import StandardScaler\n",
    "from sklearn.model_selection import cross_val_score"
   ]
  },
  {
   "cell_type": "code",
   "execution_count": 3,
   "metadata": {},
   "outputs": [
    {
     "data": {
      "text/html": [
       "<div>\n",
       "<style scoped>\n",
       "    .dataframe tbody tr th:only-of-type {\n",
       "        vertical-align: middle;\n",
       "    }\n",
       "\n",
       "    .dataframe tbody tr th {\n",
       "        vertical-align: top;\n",
       "    }\n",
       "\n",
       "    .dataframe thead th {\n",
       "        text-align: right;\n",
       "    }\n",
       "</style>\n",
       "<table border=\"1\" class=\"dataframe\">\n",
       "  <thead>\n",
       "    <tr style=\"text-align: right;\">\n",
       "      <th></th>\n",
       "      <th>ID</th>\n",
       "      <th>Name</th>\n",
       "      <th>Age</th>\n",
       "      <th>Nationality</th>\n",
       "      <th>Overall</th>\n",
       "      <th>Potential</th>\n",
       "      <th>Club</th>\n",
       "      <th>Value</th>\n",
       "      <th>Wage</th>\n",
       "      <th>International Reputation</th>\n",
       "      <th>...</th>\n",
       "      <th>Penalties</th>\n",
       "      <th>Composure</th>\n",
       "      <th>Marking</th>\n",
       "      <th>StandingTackle</th>\n",
       "      <th>SlidingTackle</th>\n",
       "      <th>GKDiving</th>\n",
       "      <th>GKHandling</th>\n",
       "      <th>GKKicking</th>\n",
       "      <th>GKPositioning</th>\n",
       "      <th>GKReflexes</th>\n",
       "    </tr>\n",
       "  </thead>\n",
       "  <tbody>\n",
       "    <tr>\n",
       "      <td>0</td>\n",
       "      <td>158023</td>\n",
       "      <td>L. Messi</td>\n",
       "      <td>31</td>\n",
       "      <td>Argentina</td>\n",
       "      <td>94</td>\n",
       "      <td>94</td>\n",
       "      <td>FC Barcelona</td>\n",
       "      <td>€110.5M</td>\n",
       "      <td>€565K</td>\n",
       "      <td>5.0</td>\n",
       "      <td>...</td>\n",
       "      <td>75.0</td>\n",
       "      <td>96.0</td>\n",
       "      <td>33.0</td>\n",
       "      <td>28.0</td>\n",
       "      <td>26.0</td>\n",
       "      <td>6.0</td>\n",
       "      <td>11.0</td>\n",
       "      <td>15.0</td>\n",
       "      <td>14.0</td>\n",
       "      <td>8.0</td>\n",
       "    </tr>\n",
       "    <tr>\n",
       "      <td>1</td>\n",
       "      <td>20801</td>\n",
       "      <td>Cristiano Ronaldo</td>\n",
       "      <td>33</td>\n",
       "      <td>Portugal</td>\n",
       "      <td>94</td>\n",
       "      <td>94</td>\n",
       "      <td>Juventus</td>\n",
       "      <td>€77M</td>\n",
       "      <td>€405K</td>\n",
       "      <td>5.0</td>\n",
       "      <td>...</td>\n",
       "      <td>85.0</td>\n",
       "      <td>95.0</td>\n",
       "      <td>28.0</td>\n",
       "      <td>31.0</td>\n",
       "      <td>23.0</td>\n",
       "      <td>7.0</td>\n",
       "      <td>11.0</td>\n",
       "      <td>15.0</td>\n",
       "      <td>14.0</td>\n",
       "      <td>11.0</td>\n",
       "    </tr>\n",
       "    <tr>\n",
       "      <td>2</td>\n",
       "      <td>190871</td>\n",
       "      <td>Neymar Jr</td>\n",
       "      <td>26</td>\n",
       "      <td>Brazil</td>\n",
       "      <td>92</td>\n",
       "      <td>93</td>\n",
       "      <td>Paris Saint-Germain</td>\n",
       "      <td>€118.5M</td>\n",
       "      <td>€290K</td>\n",
       "      <td>5.0</td>\n",
       "      <td>...</td>\n",
       "      <td>81.0</td>\n",
       "      <td>94.0</td>\n",
       "      <td>27.0</td>\n",
       "      <td>24.0</td>\n",
       "      <td>33.0</td>\n",
       "      <td>9.0</td>\n",
       "      <td>9.0</td>\n",
       "      <td>15.0</td>\n",
       "      <td>15.0</td>\n",
       "      <td>11.0</td>\n",
       "    </tr>\n",
       "    <tr>\n",
       "      <td>3</td>\n",
       "      <td>193080</td>\n",
       "      <td>De Gea</td>\n",
       "      <td>27</td>\n",
       "      <td>Spain</td>\n",
       "      <td>91</td>\n",
       "      <td>93</td>\n",
       "      <td>Manchester United</td>\n",
       "      <td>€72M</td>\n",
       "      <td>€260K</td>\n",
       "      <td>4.0</td>\n",
       "      <td>...</td>\n",
       "      <td>40.0</td>\n",
       "      <td>68.0</td>\n",
       "      <td>15.0</td>\n",
       "      <td>21.0</td>\n",
       "      <td>13.0</td>\n",
       "      <td>90.0</td>\n",
       "      <td>85.0</td>\n",
       "      <td>87.0</td>\n",
       "      <td>88.0</td>\n",
       "      <td>94.0</td>\n",
       "    </tr>\n",
       "    <tr>\n",
       "      <td>4</td>\n",
       "      <td>192985</td>\n",
       "      <td>K. De Bruyne</td>\n",
       "      <td>27</td>\n",
       "      <td>Belgium</td>\n",
       "      <td>91</td>\n",
       "      <td>92</td>\n",
       "      <td>Manchester City</td>\n",
       "      <td>€102M</td>\n",
       "      <td>€355K</td>\n",
       "      <td>4.0</td>\n",
       "      <td>...</td>\n",
       "      <td>79.0</td>\n",
       "      <td>88.0</td>\n",
       "      <td>68.0</td>\n",
       "      <td>58.0</td>\n",
       "      <td>51.0</td>\n",
       "      <td>15.0</td>\n",
       "      <td>13.0</td>\n",
       "      <td>5.0</td>\n",
       "      <td>10.0</td>\n",
       "      <td>13.0</td>\n",
       "    </tr>\n",
       "  </tbody>\n",
       "</table>\n",
       "<p>5 rows × 50 columns</p>\n",
       "</div>"
      ],
      "text/plain": [
       "       ID               Name  Age Nationality  Overall  Potential  \\\n",
       "0  158023           L. Messi   31   Argentina       94         94   \n",
       "1   20801  Cristiano Ronaldo   33    Portugal       94         94   \n",
       "2  190871          Neymar Jr   26      Brazil       92         93   \n",
       "3  193080             De Gea   27       Spain       91         93   \n",
       "4  192985       K. De Bruyne   27     Belgium       91         92   \n",
       "\n",
       "                  Club    Value   Wage  International Reputation  ...  \\\n",
       "0         FC Barcelona  €110.5M  €565K                       5.0  ...   \n",
       "1             Juventus     €77M  €405K                       5.0  ...   \n",
       "2  Paris Saint-Germain  €118.5M  €290K                       5.0  ...   \n",
       "3    Manchester United     €72M  €260K                       4.0  ...   \n",
       "4      Manchester City    €102M  €355K                       4.0  ...   \n",
       "\n",
       "   Penalties  Composure Marking StandingTackle SlidingTackle GKDiving  \\\n",
       "0       75.0       96.0    33.0           28.0          26.0      6.0   \n",
       "1       85.0       95.0    28.0           31.0          23.0      7.0   \n",
       "2       81.0       94.0    27.0           24.0          33.0      9.0   \n",
       "3       40.0       68.0    15.0           21.0          13.0     90.0   \n",
       "4       79.0       88.0    68.0           58.0          51.0     15.0   \n",
       "\n",
       "   GKHandling  GKKicking  GKPositioning  GKReflexes  \n",
       "0        11.0       15.0           14.0         8.0  \n",
       "1        11.0       15.0           14.0        11.0  \n",
       "2         9.0       15.0           15.0        11.0  \n",
       "3        85.0       87.0           88.0        94.0  \n",
       "4        13.0        5.0           10.0        13.0  \n",
       "\n",
       "[5 rows x 50 columns]"
      ]
     },
     "execution_count": 3,
     "metadata": {},
     "output_type": "execute_result"
    }
   ],
   "source": [
    "fifa = pd.read_csv(\"FIFA19data.csv\", sep=r'\\s*,\\s*', engine='python')\n",
    "fifa.head()"
   ]
  },
  {
   "cell_type": "markdown",
   "metadata": {},
   "source": [
    "# Prepare the Dataset "
   ]
  },
  {
   "cell_type": "code",
   "execution_count": 4,
   "metadata": {},
   "outputs": [
    {
     "data": {
      "text/plain": [
       "Index(['ID', 'Name', 'Age', 'Nationality', 'Overall', 'Potential', 'Club',\n",
       "       'Value', 'Wage', 'International Reputation', 'Weak Foot', 'Skill Moves',\n",
       "       'Work Rate', 'Body Type', 'Position', 'Contract Valid Until',\n",
       "       'Crossing', 'Finishing', 'HeadingAccuracy', 'ShortPassing', 'Volleys',\n",
       "       'Dribbling', 'Curve', 'FKAccuracy', 'LongPassing', 'BallControl',\n",
       "       'Acceleration', 'SprintSpeed', 'Agility', 'Reactions', 'Balance',\n",
       "       'ShotPower', 'Jumping', 'Stamina', 'Strength', 'LongShots',\n",
       "       'Aggression', 'Interceptions', 'Positioning', 'Vision', 'Penalties',\n",
       "       'Composure', 'Marking', 'StandingTackle', 'SlidingTackle', 'GKDiving',\n",
       "       'GKHandling', 'GKKicking', 'GKPositioning', 'GKReflexes'],\n",
       "      dtype='object')"
      ]
     },
     "execution_count": 4,
     "metadata": {},
     "output_type": "execute_result"
    }
   ],
   "source": [
    "# see all variable names\n",
    "fifa.columns"
   ]
  },
  {
   "cell_type": "code",
   "execution_count": 5,
   "metadata": {},
   "outputs": [],
   "source": [
    "# drop the variables not used in the analysis\n",
    "fifa = fifa.drop('ID', 1)\n",
    "fifa = fifa.drop('Name', 1)\n",
    "fifa = fifa.drop('Nationality', 1)\n",
    "fifa = fifa.drop('Club', 1)\n",
    "fifa = fifa.drop('Value', 1)\n",
    "fifa = fifa.drop('Wage', 1)\n",
    "fifa = fifa.drop('Body Type', 1)\n",
    "fifa = fifa.drop('Potential', 1)"
   ]
  },
  {
   "cell_type": "code",
   "execution_count": 6,
   "metadata": {},
   "outputs": [
    {
     "data": {
      "text/plain": [
       "True"
      ]
     },
     "execution_count": 6,
     "metadata": {},
     "output_type": "execute_result"
    }
   ],
   "source": [
    "# check if there is any NAs\n",
    "fifa.isnull().values.any()"
   ]
  },
  {
   "cell_type": "code",
   "execution_count": 7,
   "metadata": {},
   "outputs": [],
   "source": [
    "# replace all the NAs with the mode of the column\n",
    "for col in fifa.columns:\n",
    "    fifa[col].fillna(value=fifa[col].mode()[0], inplace=True)"
   ]
  },
  {
   "cell_type": "code",
   "execution_count": 7,
   "metadata": {},
   "outputs": [
    {
     "name": "stdout",
     "output_type": "stream",
     "text": [
      "Age <class 'numpy.int64'>\n",
      "Overall <class 'numpy.int64'>\n",
      "International Reputation <class 'numpy.float64'>\n",
      "Weak Foot <class 'numpy.float64'>\n",
      "Skill Moves <class 'numpy.float64'>\n",
      "Work Rate <class 'str'>\n",
      "Position <class 'str'>\n",
      "Contract Valid Until <class 'str'>\n",
      "Crossing <class 'numpy.float64'>\n",
      "Finishing <class 'numpy.float64'>\n",
      "HeadingAccuracy <class 'numpy.float64'>\n",
      "ShortPassing <class 'numpy.float64'>\n",
      "Volleys <class 'numpy.float64'>\n",
      "Dribbling <class 'numpy.float64'>\n",
      "Curve <class 'numpy.float64'>\n",
      "FKAccuracy <class 'numpy.float64'>\n",
      "LongPassing <class 'numpy.float64'>\n",
      "BallControl <class 'numpy.float64'>\n",
      "Acceleration <class 'numpy.float64'>\n",
      "SprintSpeed <class 'numpy.float64'>\n",
      "Agility <class 'numpy.float64'>\n",
      "Reactions <class 'numpy.float64'>\n",
      "Balance <class 'numpy.float64'>\n",
      "ShotPower <class 'numpy.float64'>\n",
      "Jumping <class 'numpy.float64'>\n",
      "Stamina <class 'numpy.float64'>\n",
      "Strength <class 'numpy.float64'>\n",
      "LongShots <class 'numpy.float64'>\n",
      "Aggression <class 'numpy.float64'>\n",
      "Interceptions <class 'numpy.float64'>\n",
      "Positioning <class 'numpy.float64'>\n",
      "Vision <class 'numpy.float64'>\n",
      "Penalties <class 'numpy.float64'>\n",
      "Composure <class 'numpy.float64'>\n",
      "Marking <class 'numpy.float64'>\n",
      "StandingTackle <class 'numpy.float64'>\n",
      "SlidingTackle <class 'numpy.float64'>\n",
      "GKDiving <class 'numpy.float64'>\n",
      "GKHandling <class 'numpy.float64'>\n",
      "GKKicking <class 'numpy.float64'>\n",
      "GKPositioning <class 'numpy.float64'>\n",
      "GKReflexes <class 'numpy.float64'>\n"
     ]
    }
   ],
   "source": [
    "# check the data type of the values in each column\n",
    "for col in fifa:\n",
    "    print(col, type(fifa[col][0]))"
   ]
  },
  {
   "cell_type": "code",
   "execution_count": 8,
   "metadata": {},
   "outputs": [],
   "source": [
    "# create a new column \"Contract Length\" with integer-type values\n",
    "contractDate = []\n",
    "for i in range(len(fifa['Contract Valid Until'])):\n",
    "    try:\n",
    "        contractDate.append((int(fifa['Contract Valid Until'][i])-2018))\n",
    "    except:\n",
    "        date_split = fifa['Contract Valid Until'][i].split(\"-\")\n",
    "        year = date_split[2]\n",
    "        if len(year) == 4:\n",
    "            contractDate.append(int(year)-2018)\n",
    "        else:\n",
    "            contractDate.append(int('20'+year)-2018)\n",
    "\n",
    "fifa['Contract Length'] = contractDate"
   ]
  },
  {
   "cell_type": "code",
   "execution_count": 9,
   "metadata": {},
   "outputs": [],
   "source": [
    "# create a copy the dataset, in which drop 'Contract Valid Until'\n",
    "fifa_copy = fifa.copy()\n",
    "fifa_copy = fifa_copy.drop('Contract Valid Until', 1)"
   ]
  },
  {
   "cell_type": "code",
   "execution_count": 10,
   "metadata": {},
   "outputs": [],
   "source": [
    "# create dummy variables for each level within the categorical variables (non-ordinal)\n",
    "factors = ['Work Rate', 'Position']\n",
    "\n",
    "for var in factors:\n",
    "    cat_list='var'+'_'+var\n",
    "    cat_list = pd.get_dummies(fifa_copy[var], prefix=var)\n",
    "    fifa_copy = pd.concat([fifa_copy,cat_list], axis = 1)\n",
    "    fifa_copy = fifa_copy.drop(var, 1)"
   ]
  },
  {
   "cell_type": "code",
   "execution_count": 11,
   "metadata": {},
   "outputs": [],
   "source": [
    "# randomly split the data into train dataset (10%) and test dataset (90%)\n",
    "X = fifa_copy.copy()\n",
    "X = X.drop('Overall', 1)\n",
    "Y = fifa_copy.copy()\n",
    "Y = Y['Overall']\n",
    "X_train,X_test,y_train,y_test = train_test_split(X,Y, test_size=0.9, random_state=31)"
   ]
  },
  {
   "cell_type": "markdown",
   "metadata": {},
   "source": [
    "# Q1: Basic Linear Model"
   ]
  },
  {
   "cell_type": "markdown",
   "metadata": {},
   "source": [
    "## Full Model"
   ]
  },
  {
   "cell_type": "code",
   "execution_count": 12,
   "metadata": {},
   "outputs": [
    {
     "name": "stdout",
     "output_type": "stream",
     "text": [
      "R-square of the model: 0.8911537742915339\n",
      "Adjusted R-square of the model: 0.8969768998141294\n"
     ]
    }
   ],
   "source": [
    "lm1 = LinearRegression()\n",
    "lm1.fit(X_train, y_train)\n",
    "lm1_predictions = lm1.predict(X_test)\n",
    "lm1_r2 = r2_score(y_test,lm1_predictions)\n",
    "print(\"R-square of the model:\", lm1_r2)\n",
    "# adjusted R2\n",
    "lm_train_score=lm1.score(X_train,y_train)\n",
    "lm_test_score=lm1.score(X_test,y_test)\n",
    "# print(\"training score:\", lm_train_score)\n",
    "lm_ra = 1-(1-lm_train_score)*((len(X_train)-1)/(len(X_train)-len(lm1.coef_)-1))\n",
    "print(\"Adjusted R-square of the model:\", lm_ra)"
   ]
  },
  {
   "cell_type": "code",
   "execution_count": 13,
   "metadata": {},
   "outputs": [
    {
     "name": "stdout",
     "output_type": "stream",
     "text": [
      "number of features used:  75\n"
     ]
    }
   ],
   "source": [
    "X.shape\n",
    "lm_coeff_used = np.sum(lm1.coef_!=0)\n",
    "print(\"number of features used: \", lm_coeff_used)\n",
    "# all features are used"
   ]
  },
  {
   "cell_type": "markdown",
   "metadata": {},
   "source": [
    "## Cut Model"
   ]
  },
  {
   "cell_type": "code",
   "execution_count": 14,
   "metadata": {},
   "outputs": [],
   "source": [
    "lm1_2 = sm.OLS(y_train, X_train)\n",
    "results = lm1_2.fit()\n",
    "# print(results.summary())"
   ]
  },
  {
   "cell_type": "code",
   "execution_count": 15,
   "metadata": {},
   "outputs": [],
   "source": [
    "# use FDR- Benjamin-Hochberg procedure to select only significant variables\n",
    "pvals = results.pvalues\n",
    "rej, pval_corr = smm.multipletests(pvals, alpha = 0.1, method = \"fdr_bh\")[:2]\n",
    "fdr_results = {'variables': X_train.columns, 'corrected_pvals': pval_corr, 'rej': rej}\n",
    "fdr_results = pd.DataFrame(fdr_results)\n",
    "# fdr_results"
   ]
  },
  {
   "cell_type": "code",
   "execution_count": 16,
   "metadata": {},
   "outputs": [
    {
     "name": "stdout",
     "output_type": "stream",
     "text": [
      "number of featuers eliminated:  18\n"
     ]
    }
   ],
   "source": [
    "rej_var = fdr_results[fdr_results['rej'] == False]['variables']\n",
    "print(\"number of featuers eliminated: \", len(rej_var))\n",
    "\n",
    "X_train_red = X_train.copy()\n",
    "X_test_red = X_test.copy()\n",
    "for var in rej_var:\n",
    "    X_train_red = X_train_red.drop(var, 1)\n",
    "    X_test_red = X_test_red.drop(var, 1)\n",
    "\n",
    "# print(X_train_red.shape)\n",
    "# print(X_test_red.shape)"
   ]
  },
  {
   "cell_type": "code",
   "execution_count": 17,
   "metadata": {},
   "outputs": [
    {
     "name": "stdout",
     "output_type": "stream",
     "text": [
      "R-square of the model: 0.8908207490817045\n",
      "Adjusted R-square of the model: 0.897001422554668\n"
     ]
    }
   ],
   "source": [
    "lm2 = LinearRegression()\n",
    "lm2.fit(X_train_red, y_train)\n",
    "lm2_predictions = lm2.predict(X_test_red)\n",
    "lm2_r2 = r2_score(y_test,lm2_predictions)\n",
    "print(\"R-square of the model:\", lm2_r2)\n",
    "# adjusted R2\n",
    "lm2_train_score=lm2.score(X_train_red,y_train)\n",
    "lm2_test_score=lm2.score(X_test_red,y_test)\n",
    "# print(\"training score:\", lm_train_score)\n",
    "lm2_ra = 1-(1-lm2_train_score)*((len(X_train_red)-1)/(len(X_train_red)-len(lm2.coef_)-1))\n",
    "print(\"Adjusted R-square of the model:\", lm2_ra)"
   ]
  },
  {
   "cell_type": "markdown",
   "metadata": {},
   "source": [
    "#  Q2: CrossValidation"
   ]
  },
  {
   "cell_type": "code",
   "execution_count": 18,
   "metadata": {},
   "outputs": [
    {
     "name": "stdout",
     "output_type": "stream",
     "text": [
      "Accuracy for full model: 0.88975 (+/- 0.02071)\n",
      "Accuracy for cut model: 0.89139 (+/- 0.01823)\n",
      "Average r2 after CV of lm2: 0.8938589150136973\n"
     ]
    }
   ],
   "source": [
    "lm1_cv = cross_validate(lm1, X_train, y_train, cv=5)\n",
    "lm1_scores = cross_val_score(lm1, X_train, y_train, cv=5)\n",
    "lm1_scores\n",
    "print(\"Accuracy for full model: %0.5f (+/- %0.5f)\" % (lm1_scores.mean(), lm1_scores.std() * 2))\n",
    "\n",
    "lm2_cv = cross_validate(lm2, X_train_red, y_train, cv=5)\n",
    "lm2_scores = cross_val_score(lm2, X_train_red, y_train, cv=5)\n",
    "lm2_scores\n",
    "print(\"Accuracy for cut model: %0.5f (+/- %0.5f)\" % (lm2_scores.mean(), lm2_scores.std() * 2))\n",
    "\n",
    "# Since it has higher accuracy, we choose the cut model\n",
    "# run the cross validation predict function to calculate OOS R^2:\n",
    "lm2_cv_predictions = cross_val_predict(lm2, X_test_red, y_test, cv=5)\n",
    "lm2_cv_r2 = r2_score(y_test,lm2_cv_predictions)\n",
    "print(\"Average r2 after CV of lm2:\", lm2_cv_r2)"
   ]
  },
  {
   "cell_type": "markdown",
   "metadata": {},
   "source": [
    "# Q3: Lasso"
   ]
  },
  {
   "cell_type": "code",
   "execution_count": 19,
   "metadata": {},
   "outputs": [],
   "source": [
    "# use Lasso regression to predict\n",
    "lasso = Lasso()\n",
    "lasso.fit(X_train,y_train)\n",
    "lasso1_predictions = lasso.predict(X_test)"
   ]
  },
  {
   "cell_type": "code",
   "execution_count": 20,
   "metadata": {},
   "outputs": [
    {
     "name": "stdout",
     "output_type": "stream",
     "text": [
      "number of features used:  23\n",
      "test r2 score:  0.8508221709052508\n"
     ]
    }
   ],
   "source": [
    "# result of the Lasso regression\n",
    "lasso1_train_score=lasso.score(X_train,y_train)\n",
    "lasso1_test_score=lasso.score(X_test,y_test)\n",
    "lasso1_coeff_used = np.sum(lasso.coef_!=0)\n",
    "r2_lasso1 = r2_score(y_test, lasso1_predictions)\n",
    "\n",
    "# print(\"training score:\", train_score)\n",
    "# print(\"test score: \", test_score)\n",
    "print(\"number of features used: \", lasso1_coeff_used)\n",
    "print(\"test r2 score: \", r2_lasso1)"
   ]
  },
  {
   "cell_type": "code",
   "execution_count": 21,
   "metadata": {},
   "outputs": [
    {
     "name": "stdout",
     "output_type": "stream",
     "text": [
      "Adjusted R-square of the model: 0.85061248502435\n"
     ]
    }
   ],
   "source": [
    "# test adjusted r2\n",
    "lasso_ra = 1-(1-lasso1_test_score)*((len(X_test)-1)/(len(X_test)-lasso1_coeff_used-1))\n",
    "print(\"Adjusted R-square of the model:\", lasso_ra)"
   ]
  },
  {
   "cell_type": "markdown",
   "metadata": {},
   "source": [
    "# Q4a: Ridge"
   ]
  },
  {
   "cell_type": "code",
   "execution_count": 22,
   "metadata": {},
   "outputs": [],
   "source": [
    "ridge = Ridge()\n",
    "ridge.fit(X_train, y_train)\n",
    "ridge_predictions = ridge.predict(X_test)"
   ]
  },
  {
   "cell_type": "code",
   "execution_count": 23,
   "metadata": {},
   "outputs": [
    {
     "name": "stdout",
     "output_type": "stream",
     "text": [
      "number of features used:  74\n",
      "test r2 score:  0.8912216651356437\n"
     ]
    }
   ],
   "source": [
    "# result of the Ridge regression\n",
    "ridge_train_score = ridge.score(X_train, y_train)\n",
    "ridge_test_score = ridge.score(X_test, y_test)\n",
    "ridge_coeff_used = np.sum(ridge.coef_ != 0)\n",
    "r2_ridge = r2_score(y_test, ridge_predictions)\n",
    "\n",
    "print(\"number of features used: \", ridge_coeff_used)\n",
    "print(\"test r2 score: \", r2_ridge)"
   ]
  },
  {
   "cell_type": "code",
   "execution_count": 24,
   "metadata": {},
   "outputs": [
    {
     "name": "stdout",
     "output_type": "stream",
     "text": [
      "Adjusted R-square of the model: 0.8907281881383434\n"
     ]
    }
   ],
   "source": [
    "# test adjusted r2\n",
    "ridge_ra = 1-(1-ridge_test_score)*((len(X_test)-1)/(len(X_test)-ridge_coeff_used-1))\n",
    "print(\"Adjusted R-square of the model:\", ridge_ra)"
   ]
  },
  {
   "cell_type": "markdown",
   "metadata": {},
   "source": [
    "# Q4b: Log"
   ]
  },
  {
   "cell_type": "markdown",
   "metadata": {},
   "source": [
    "Please refer to the write-up."
   ]
  },
  {
   "cell_type": "markdown",
   "metadata": {},
   "source": [
    "# Q5: Lasso Regression with Ideal Alpha"
   ]
  },
  {
   "cell_type": "code",
   "execution_count": 25,
   "metadata": {},
   "outputs": [
    {
     "name": "stderr",
     "output_type": "stream",
     "text": [
      "/opt/anaconda3/lib/python3.7/site-packages/sklearn/linear_model/coordinate_descent.py:475: ConvergenceWarning: Objective did not converge. You might want to increase the number of iterations. Duality gap: 3450.275075804783, tolerance: 7.077029670329669\n",
      "  positive)\n",
      "/opt/anaconda3/lib/python3.7/site-packages/sklearn/linear_model/coordinate_descent.py:475: ConvergenceWarning: Objective did not converge. You might want to increase the number of iterations. Duality gap: 3486.1089424933693, tolerance: 7.259854670329671\n",
      "  positive)\n",
      "/opt/anaconda3/lib/python3.7/site-packages/sklearn/linear_model/coordinate_descent.py:475: ConvergenceWarning: Objective did not converge. You might want to increase the number of iterations. Duality gap: 3361.8430056114153, tolerance: 7.131133997252747\n",
      "  positive)\n",
      "/opt/anaconda3/lib/python3.7/site-packages/sklearn/linear_model/coordinate_descent.py:475: ConvergenceWarning: Objective did not converge. You might want to increase the number of iterations. Duality gap: 3553.819142067843, tolerance: 7.0043527472527485\n",
      "  positive)\n",
      "/opt/anaconda3/lib/python3.7/site-packages/sklearn/linear_model/coordinate_descent.py:475: ConvergenceWarning: Objective did not converge. You might want to increase the number of iterations. Duality gap: 3539.945802547356, tolerance: 7.143148282967034\n",
      "  positive)\n",
      "/opt/anaconda3/lib/python3.7/site-packages/sklearn/linear_model/coordinate_descent.py:475: ConvergenceWarning: Objective did not converge. You might want to increase the number of iterations. Duality gap: 3450.179216868382, tolerance: 7.077029670329669\n",
      "  positive)\n",
      "/opt/anaconda3/lib/python3.7/site-packages/sklearn/linear_model/coordinate_descent.py:475: ConvergenceWarning: Objective did not converge. You might want to increase the number of iterations. Duality gap: 3485.9739136393873, tolerance: 7.259854670329671\n",
      "  positive)\n",
      "/opt/anaconda3/lib/python3.7/site-packages/sklearn/linear_model/coordinate_descent.py:475: ConvergenceWarning: Objective did not converge. You might want to increase the number of iterations. Duality gap: 3361.720826207895, tolerance: 7.131133997252747\n",
      "  positive)\n",
      "/opt/anaconda3/lib/python3.7/site-packages/sklearn/linear_model/coordinate_descent.py:475: ConvergenceWarning: Objective did not converge. You might want to increase the number of iterations. Duality gap: 3553.563061595022, tolerance: 7.0043527472527485\n",
      "  positive)\n",
      "/opt/anaconda3/lib/python3.7/site-packages/sklearn/linear_model/coordinate_descent.py:475: ConvergenceWarning: Objective did not converge. You might want to increase the number of iterations. Duality gap: 3539.8256832678658, tolerance: 7.143148282967034\n",
      "  positive)\n",
      "/opt/anaconda3/lib/python3.7/site-packages/sklearn/linear_model/coordinate_descent.py:475: ConvergenceWarning: Objective did not converge. You might want to increase the number of iterations. Duality gap: 3440.682459346931, tolerance: 7.077029670329669\n",
      "  positive)\n",
      "/opt/anaconda3/lib/python3.7/site-packages/sklearn/linear_model/coordinate_descent.py:475: ConvergenceWarning: Objective did not converge. You might want to increase the number of iterations. Duality gap: 3472.592936697982, tolerance: 7.259854670329671\n",
      "  positive)\n",
      "/opt/anaconda3/lib/python3.7/site-packages/sklearn/linear_model/coordinate_descent.py:475: ConvergenceWarning: Objective did not converge. You might want to increase the number of iterations. Duality gap: 3349.6139220778186, tolerance: 7.131133997252747\n",
      "  positive)\n",
      "/opt/anaconda3/lib/python3.7/site-packages/sklearn/linear_model/coordinate_descent.py:475: ConvergenceWarning: Objective did not converge. You might want to increase the number of iterations. Duality gap: 3528.347240607101, tolerance: 7.0043527472527485\n",
      "  positive)\n",
      "/opt/anaconda3/lib/python3.7/site-packages/sklearn/linear_model/coordinate_descent.py:475: ConvergenceWarning: Objective did not converge. You might want to increase the number of iterations. Duality gap: 3527.9235763589304, tolerance: 7.143148282967034\n",
      "  positive)\n"
     ]
    },
    {
     "data": {
      "text/plain": [
       "GridSearchCV(cv=5, error_score='raise-deprecating',\n",
       "             estimator=Lasso(alpha=1.0, copy_X=True, fit_intercept=True,\n",
       "                             max_iter=1000, normalize=False, positive=False,\n",
       "                             precompute=False, random_state=None,\n",
       "                             selection='cyclic', tol=0.0001, warm_start=False),\n",
       "             iid='warn', n_jobs=None,\n",
       "             param_grid={'alpha': [1e-15, 1e-10, 1e-08, 0.0001, 0.001, 0.01, 1,\n",
       "                                   5, 10, 20]},\n",
       "             pre_dispatch='2*n_jobs', refit=True, return_train_score=False,\n",
       "             scoring=None, verbose=0)"
      ]
     },
     "execution_count": 25,
     "metadata": {},
     "output_type": "execute_result"
    }
   ],
   "source": [
    "lasso2 = Lasso()\n",
    "\n",
    "parameters = {'alpha': [1e-15, 1e-10, 1e-8, 1e-4, 1e-3,1e-2, 1, 5, 10, 20]}\n",
    "\n",
    "lasso_regressor = GridSearchCV(lasso2, parameters, cv = 5)\n",
    "\n",
    "lasso_regressor.fit(X_train, y_train)"
   ]
  },
  {
   "cell_type": "code",
   "execution_count": 26,
   "metadata": {},
   "outputs": [
    {
     "name": "stdout",
     "output_type": "stream",
     "text": [
      "the ideal value of alpha {'alpha': 0.01}\n"
     ]
    }
   ],
   "source": [
    "# the ideal value of alpha \n",
    "print(\"the ideal value of alpha\", lasso_regressor.best_params_)"
   ]
  },
  {
   "cell_type": "code",
   "execution_count": 27,
   "metadata": {},
   "outputs": [
    {
     "name": "stdout",
     "output_type": "stream",
     "text": [
      "the number of features used: 52\n"
     ]
    }
   ],
   "source": [
    "lasso2_coeff_used = np.sum(lasso_regressor.best_estimator_.coef_!=0)\n",
    "print(\"the number of features used:\", lasso2_coeff_used)"
   ]
  },
  {
   "cell_type": "code",
   "execution_count": 28,
   "metadata": {},
   "outputs": [
    {
     "name": "stdout",
     "output_type": "stream",
     "text": [
      "test r2 score: 0.8903681810518583\n"
     ]
    }
   ],
   "source": [
    "lasso2_train_score = lasso_regressor.score(X_train,y_train)\n",
    "lasso2_test_score = lasso_regressor.score(X_test,y_test)\n",
    "lasso2_predictions = lasso_regressor.predict(X_test)\n",
    "r2_lasso2 = r2_score(y_test, lasso2_predictions)\n",
    "print(\"test r2 score:\", r2_lasso2)"
   ]
  },
  {
   "cell_type": "code",
   "execution_count": 29,
   "metadata": {},
   "outputs": [
    {
     "name": "stdout",
     "output_type": "stream",
     "text": [
      "Adjusted R-square of the model: 0.8900191633840915\n"
     ]
    }
   ],
   "source": [
    "# adjusted test r2\n",
    "lasso2_ra = 1-(1-lasso2_test_score)*((len(X_test)-1)/(len(X_test)-lasso2_coeff_used-1))\n",
    "print(\"Adjusted R-square of the model:\", lasso2_ra)"
   ]
  },
  {
   "cell_type": "markdown",
   "metadata": {},
   "source": [
    "#  Q6: AIC BIC"
   ]
  },
  {
   "cell_type": "code",
   "execution_count": 30,
   "metadata": {},
   "outputs": [],
   "source": [
    "# function of AIC\n",
    "def AIC(y_true, y_hat, coeff_used):\n",
    "    resid = y_true - y_hat\n",
    "    sse = sum(resid**2)\n",
    "    n = len(y_hat)\n",
    "    return n*np.log(sse/n) + 2*coeff_used\n",
    "\n",
    "# function of AICc\n",
    "def AICc(y_true, y_hat, coeff_used):\n",
    "    resid = y_true - y_hat\n",
    "    sse = sum(resid**2)\n",
    "    n = len(y_hat)\n",
    "    return n*np.log(sse/n) + 2*coeff_used*(n/(n-coeff_used-1))\n",
    "\n",
    "def BIC(y_true, y_hat, coeff_used):\n",
    "    resid = y_true - y_hat\n",
    "    sse = sum(resid**2)\n",
    "    n = len(y_hat)\n",
    "    return n*np.log(sse/n) + np.log(n)*coeff_used"
   ]
  },
  {
   "cell_type": "code",
   "execution_count": 31,
   "metadata": {},
   "outputs": [
    {
     "name": "stdout",
     "output_type": "stream",
     "text": [
      "27107.75636311493\n",
      "27108.473959681454\n",
      "27693.278877972443\n"
     ]
    }
   ],
   "source": [
    "# AIC, AICc and BIC of simple linear full model\n",
    "aic_lm1 = AIC(y_test, lm1_predictions, (len(X_test.columns)+1))\n",
    "print(aic_lm1)\n",
    "\n",
    "aicc_lm1 = AICc(y_test, lm1_predictions, (len(X_test.columns))+1)\n",
    "print(aicc_lm1)\n",
    "\n",
    "bic_lm1 = BIC(y_test, lm1_predictions, (len(X_test.columns)+1))\n",
    "print(bic_lm1)"
   ]
  },
  {
   "cell_type": "code",
   "execution_count": 32,
   "metadata": {},
   "outputs": [
    {
     "name": "stdout",
     "output_type": "stream",
     "text": [
      "27121.817378388096\n",
      "27122.236535663942\n",
      "27568.663508147776\n"
     ]
    }
   ],
   "source": [
    "# AIC, AICc and BIC of simple linear cut model\n",
    "aic_lm2 = AIC(y_test, lm2_predictions, (len(X_test_red.columns)+1))\n",
    "print(aic_lm2)\n",
    "\n",
    "aicc_lm2 = AICc(y_test, lm2_predictions, (len(X_test_red.columns))+1)\n",
    "print(aicc_lm2)\n",
    "\n",
    "bic_lm2 = BIC(y_test, lm2_predictions, (len(X_test_red.columns)+1))\n",
    "print(bic_lm2)"
   ]
  },
  {
   "cell_type": "code",
   "execution_count": 33,
   "metadata": {},
   "outputs": [
    {
     "name": "stdout",
     "output_type": "stream",
     "text": [
      "27179.60410311754\n",
      "27179.954559249298\n",
      "27587.929014794492\n"
     ]
    }
   ],
   "source": [
    "# AIC, AICc and BIC of lasso model with ideal alpha\n",
    "aic_lasso2 = AIC(y_test, lasso2_predictions, (lasso2_coeff_used+1))\n",
    "print(aic_lasso2)\n",
    "\n",
    "aicc_lasso2 = AICc(y_test, lasso2_predictions, (lasso2_coeff_used+1))\n",
    "print(aicc_lasso2)\n",
    "\n",
    "bic_lasso2 = BIC(y_test, lasso2_predictions, (lasso2_coeff_used+1))\n",
    "print(bic_lasso2)"
   ]
  }
 ],
 "metadata": {
  "kernelspec": {
   "display_name": "Python 3",
   "language": "python",
   "name": "python3"
  },
  "language_info": {
   "codemirror_mode": {
    "name": "ipython",
    "version": 3
   },
   "file_extension": ".py",
   "mimetype": "text/x-python",
   "name": "python",
   "nbconvert_exporter": "python",
   "pygments_lexer": "ipython3",
   "version": "3.7.4"
  },
  "toc": {
   "base_numbering": 1,
   "nav_menu": {},
   "number_sections": true,
   "sideBar": true,
   "skip_h1_title": false,
   "title_cell": "Table of Contents",
   "title_sidebar": "Contents",
   "toc_cell": false,
   "toc_position": {},
   "toc_section_display": true,
   "toc_window_display": false
  },
  "varInspector": {
   "cols": {
    "lenName": 16,
    "lenType": 16,
    "lenVar": 40
   },
   "kernels_config": {
    "python": {
     "delete_cmd_postfix": "",
     "delete_cmd_prefix": "del ",
     "library": "var_list.py",
     "varRefreshCmd": "print(var_dic_list())"
    },
    "r": {
     "delete_cmd_postfix": ") ",
     "delete_cmd_prefix": "rm(",
     "library": "var_list.r",
     "varRefreshCmd": "cat(var_dic_list()) "
    }
   },
   "types_to_exclude": [
    "module",
    "function",
    "builtin_function_or_method",
    "instance",
    "_Feature"
   ],
   "window_display": false
  }
 },
 "nbformat": 4,
 "nbformat_minor": 2
}
